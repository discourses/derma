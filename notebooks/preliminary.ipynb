{
 "cells": [
  {
   "cell_type": "markdown",
   "metadata": {},
   "source": [
    "# Basic Analysis of the ISIC Skin Lesion Images\n",
    "\n",
    "### via Metadata\n",
    "\n",
    "<br>"
   ]
  },
  {
   "cell_type": "markdown",
   "metadata": {},
   "source": [
    "This notebook explores the constituents of the ISIC Skin Lesions data set.  The data set consists of a set of images, a metadata file, and a ground truths file; please read the [project repository](https://github.com/greyhypotheses/derma/tree/develop) or [project proposal](https://docs.google.com/document/d/1i2OWVMBZ6i2IIZFxOKUdUxAOlKXy47cbA0760vKg8ZE/edit?usp=sharing) notes.  The aim herein is to investigate the questions\n",
    "\n",
    "* What does the metadata relate about the images?\n",
    "* Is each image associated with a single class only?\n",
    "* Is the data set balanced or imbalanced?\n",
    "* Does each lesion class have a sufficient sample size (a) for the stratification of training/testing data if required, (b) per skin lesion class?\n",
    "\n",
    "The project will programmatically address the possibility of unequal image sizes, and image access failure.\n"
   ]
  },
  {
   "cell_type": "markdown",
   "metadata": {},
   "source": [
    "<br>\n",
    "\n",
    "## PRELIMINARIES\n",
    "\n",
    "Preparatory steps; importing libraries, and local classes & methods."
   ]
  },
  {
   "cell_type": "markdown",
   "metadata": {},
   "source": [
    "\n",
    "\n",
    "### External Libraries"
   ]
  },
  {
   "cell_type": "code",
   "execution_count": 55,
   "metadata": {},
   "outputs": [
    {
     "name": "stdout",
     "output_type": "stream",
     "text": [
      "2019-12-02 12:13:23,832 - matplotlib.pyplot - DEBUG - Loaded backend module://ipykernel.pylab.backend_inline version unknown.\n"
     ]
    }
   ],
   "source": [
    "%matplotlib inline \n",
    "\n",
    "import sys\n",
    "import os\n",
    "import pandas as pd\n",
    "import seaborn as sns\n",
    "import matplotlib.pyplot as plt\n",
    "import matplotlib.axes as axes\n",
    "\n",
    "# Setup Seaborn\n",
    "sns.set_style(\"darkgrid\")\n",
    "sns.set_context(\"poster\")\n",
    "sns.set(font_scale=1)"
   ]
  },
  {
   "cell_type": "markdown",
   "metadata": {},
   "source": [
    "<br>\n",
    "\n",
    "### Local Classes & Methods\n",
    "\n",
    "This notebook uses the methods defined in `derma/src/`.  The expression\n",
    "```python\n",
    "os.path.split(os.getcwd())[0]\n",
    "```\n",
    "is used to retrieve the `derma` path."
   ]
  },
  {
   "cell_type": "code",
   "execution_count": 56,
   "metadata": {},
   "outputs": [],
   "source": [
    "sys.path.append( os.path.split(os.getcwd())[0] )"
   ]
  },
  {
   "cell_type": "markdown",
   "metadata": {},
   "source": [
    "<br>\n",
    "\n",
    "Hence, local classes & methods can be imported; this minimises code duplication, and aids reproducibility & investigations because the notebook is using same classes that the package's models will use.  The local classes & methods are discussed in context as this notebook's discussion proceeds. "
   ]
  },
  {
   "cell_type": "code",
   "execution_count": 57,
   "metadata": {},
   "outputs": [],
   "source": [
    "import src.data.Sources as Sources\n",
    "import src.data.Usable as Usable\n",
    "import src.data.Missing as Missing\n",
    "import configurations.configurations as cfg"
   ]
  },
  {
   "cell_type": "markdown",
   "metadata": {},
   "source": [
    "<br>\n",
    "\n",
    "Of import.  The `derma` repository, the host of this notebook, has a configurations file reader named `configurations/configurations.py`.  It reads the files `configurations/variables.json` & `configurations/logs.json`.\n",
    "\n",
    "|dictionary|purpose|\n",
    "|:---|:---|\n",
    "|variables.json|The dictionary of global variables, e.g., random seed setting for model development, the links to the data sources, etc.|\n",
    "|logs.json|The dictionary of logging parameters.|\n",
    "\n",
    "An access example.  If the link to ISIC_2019_Training_Metadata.csv is required, in order to download the file, then \n",
    "\n",
    "```python\n",
    "import pandas as pd\n",
    "import configurations.configurations as cfg\n",
    "\n",
    "pd.read_csv(cfg.variables()['data']['source']['metadata']\n",
    "```\n",
    "\n",
    "\n",
    "will read the data into a data frame.\n"
   ]
  },
  {
   "cell_type": "markdown",
   "metadata": {},
   "source": [
    "<br>\n",
    "<br>\n",
    "\n",
    "## The ISIC Data Set\n",
    "\n",
    "The ISIC data set consists of 25,331 images; [approximately 9GB](https://s3.amazonaws.com/isic-challenge-2019/ISIC_2019_Training_Input.zip).  The metadata and labels of these images are recorded in the files\n",
    "\n",
    "* https://s3.amazonaws.com/isic-challenge-2019/ISIC_2019_Training_Metadata.csv, and\n",
    "* https://s3.amazonaws.com/isic-challenge-2019/ISIC_2019_Training_GroundTruth.csv\n",
    "\n",
    "respectivey.  To ensure availability, copies of these files and the images are stored in\n",
    "\n",
    "* https://github.com/greyhypotheses/dermatology/tree/master/data\n"
   ]
  },
  {
   "cell_type": "markdown",
   "metadata": {},
   "source": [
    "<br>\n",
    "\n",
    "### Preview\n",
    "\n",
    "<br>\n",
    "\n",
    "The **ISIC_2019_Training_Metadata.csv** file records the name of each image `image`, the approximate age of the patient `age_approx`, the anatomic area wherefrom the image was taken `anatom_site_general`, a lesion identification code `lesion_id`, and the sex of the patient `sex`.  The metadata will not be used for models development, only for (a) understanding the distribution of the images w.r.t. (with respect to) class/label, and potentially important metadata fields, and (b) model evaluation and interpretation."
   ]
  },
  {
   "cell_type": "code",
   "execution_count": 58,
   "metadata": {},
   "outputs": [
    {
     "data": {
      "text/html": [
       "<div>\n",
       "<style scoped>\n",
       "    .dataframe tbody tr th:only-of-type {\n",
       "        vertical-align: middle;\n",
       "    }\n",
       "\n",
       "    .dataframe tbody tr th {\n",
       "        vertical-align: top;\n",
       "    }\n",
       "\n",
       "    .dataframe thead th {\n",
       "        text-align: right;\n",
       "    }\n",
       "</style>\n",
       "<table border=\"1\" class=\"dataframe\">\n",
       "  <thead>\n",
       "    <tr style=\"text-align: right;\">\n",
       "      <th></th>\n",
       "      <th>image</th>\n",
       "      <th>age_approx</th>\n",
       "      <th>anatom_site_general</th>\n",
       "      <th>lesion_id</th>\n",
       "      <th>sex</th>\n",
       "    </tr>\n",
       "  </thead>\n",
       "  <tbody>\n",
       "    <tr>\n",
       "      <th>0</th>\n",
       "      <td>ISIC_0000000</td>\n",
       "      <td>55.0</td>\n",
       "      <td>anterior torso</td>\n",
       "      <td>NaN</td>\n",
       "      <td>female</td>\n",
       "    </tr>\n",
       "    <tr>\n",
       "      <th>1</th>\n",
       "      <td>ISIC_0000001</td>\n",
       "      <td>30.0</td>\n",
       "      <td>anterior torso</td>\n",
       "      <td>NaN</td>\n",
       "      <td>female</td>\n",
       "    </tr>\n",
       "    <tr>\n",
       "      <th>2</th>\n",
       "      <td>ISIC_0000002</td>\n",
       "      <td>60.0</td>\n",
       "      <td>upper extremity</td>\n",
       "      <td>NaN</td>\n",
       "      <td>female</td>\n",
       "    </tr>\n",
       "    <tr>\n",
       "      <th>3</th>\n",
       "      <td>ISIC_0000003</td>\n",
       "      <td>30.0</td>\n",
       "      <td>upper extremity</td>\n",
       "      <td>NaN</td>\n",
       "      <td>male</td>\n",
       "    </tr>\n",
       "    <tr>\n",
       "      <th>4</th>\n",
       "      <td>ISIC_0000004</td>\n",
       "      <td>80.0</td>\n",
       "      <td>posterior torso</td>\n",
       "      <td>NaN</td>\n",
       "      <td>male</td>\n",
       "    </tr>\n",
       "  </tbody>\n",
       "</table>\n",
       "</div>"
      ],
      "text/plain": [
       "          image  age_approx anatom_site_general lesion_id     sex\n",
       "0  ISIC_0000000        55.0      anterior torso       NaN  female\n",
       "1  ISIC_0000001        30.0      anterior torso       NaN  female\n",
       "2  ISIC_0000002        60.0     upper extremity       NaN  female\n",
       "3  ISIC_0000003        30.0     upper extremity       NaN    male\n",
       "4  ISIC_0000004        80.0     posterior torso       NaN    male"
      ]
     },
     "execution_count": 58,
     "metadata": {},
     "output_type": "execute_result"
    }
   ],
   "source": [
    "try:\n",
    "    metadata = pd.read_csv(cfg.variables()['data']['source']['metadata']).head()\n",
    "except Exception as e:\n",
    "    print(e)\n",
    "metadata.head()"
   ]
  },
  {
   "cell_type": "markdown",
   "metadata": {},
   "source": [
    "<br>\n",
    "\n",
    "The **ISIC_2019_Training_GroundTruth.csv** file records the label of each image.  The labels are one-hot-coded.  Hence, the first field of the file is the image name field, i.e., `image`, and the remaining columns are the label columns."
   ]
  },
  {
   "cell_type": "code",
   "execution_count": 59,
   "metadata": {},
   "outputs": [
    {
     "data": {
      "text/html": [
       "<div>\n",
       "<style scoped>\n",
       "    .dataframe tbody tr th:only-of-type {\n",
       "        vertical-align: middle;\n",
       "    }\n",
       "\n",
       "    .dataframe tbody tr th {\n",
       "        vertical-align: top;\n",
       "    }\n",
       "\n",
       "    .dataframe thead th {\n",
       "        text-align: right;\n",
       "    }\n",
       "</style>\n",
       "<table border=\"1\" class=\"dataframe\">\n",
       "  <thead>\n",
       "    <tr style=\"text-align: right;\">\n",
       "      <th></th>\n",
       "      <th>image</th>\n",
       "      <th>MEL</th>\n",
       "      <th>NV</th>\n",
       "      <th>BCC</th>\n",
       "      <th>AK</th>\n",
       "      <th>BKL</th>\n",
       "      <th>DF</th>\n",
       "      <th>VASC</th>\n",
       "      <th>SCC</th>\n",
       "      <th>UNK</th>\n",
       "    </tr>\n",
       "  </thead>\n",
       "  <tbody>\n",
       "    <tr>\n",
       "      <th>0</th>\n",
       "      <td>ISIC_0000000</td>\n",
       "      <td>0.0</td>\n",
       "      <td>1.0</td>\n",
       "      <td>0.0</td>\n",
       "      <td>0.0</td>\n",
       "      <td>0.0</td>\n",
       "      <td>0.0</td>\n",
       "      <td>0.0</td>\n",
       "      <td>0.0</td>\n",
       "      <td>0.0</td>\n",
       "    </tr>\n",
       "    <tr>\n",
       "      <th>1</th>\n",
       "      <td>ISIC_0000001</td>\n",
       "      <td>0.0</td>\n",
       "      <td>1.0</td>\n",
       "      <td>0.0</td>\n",
       "      <td>0.0</td>\n",
       "      <td>0.0</td>\n",
       "      <td>0.0</td>\n",
       "      <td>0.0</td>\n",
       "      <td>0.0</td>\n",
       "      <td>0.0</td>\n",
       "    </tr>\n",
       "    <tr>\n",
       "      <th>2</th>\n",
       "      <td>ISIC_0000002</td>\n",
       "      <td>1.0</td>\n",
       "      <td>0.0</td>\n",
       "      <td>0.0</td>\n",
       "      <td>0.0</td>\n",
       "      <td>0.0</td>\n",
       "      <td>0.0</td>\n",
       "      <td>0.0</td>\n",
       "      <td>0.0</td>\n",
       "      <td>0.0</td>\n",
       "    </tr>\n",
       "    <tr>\n",
       "      <th>3</th>\n",
       "      <td>ISIC_0000003</td>\n",
       "      <td>0.0</td>\n",
       "      <td>1.0</td>\n",
       "      <td>0.0</td>\n",
       "      <td>0.0</td>\n",
       "      <td>0.0</td>\n",
       "      <td>0.0</td>\n",
       "      <td>0.0</td>\n",
       "      <td>0.0</td>\n",
       "      <td>0.0</td>\n",
       "    </tr>\n",
       "    <tr>\n",
       "      <th>4</th>\n",
       "      <td>ISIC_0000004</td>\n",
       "      <td>1.0</td>\n",
       "      <td>0.0</td>\n",
       "      <td>0.0</td>\n",
       "      <td>0.0</td>\n",
       "      <td>0.0</td>\n",
       "      <td>0.0</td>\n",
       "      <td>0.0</td>\n",
       "      <td>0.0</td>\n",
       "      <td>0.0</td>\n",
       "    </tr>\n",
       "  </tbody>\n",
       "</table>\n",
       "</div>"
      ],
      "text/plain": [
       "          image  MEL   NV  BCC   AK  BKL   DF  VASC  SCC  UNK\n",
       "0  ISIC_0000000  0.0  1.0  0.0  0.0  0.0  0.0   0.0  0.0  0.0\n",
       "1  ISIC_0000001  0.0  1.0  0.0  0.0  0.0  0.0   0.0  0.0  0.0\n",
       "2  ISIC_0000002  1.0  0.0  0.0  0.0  0.0  0.0   0.0  0.0  0.0\n",
       "3  ISIC_0000003  0.0  1.0  0.0  0.0  0.0  0.0   0.0  0.0  0.0\n",
       "4  ISIC_0000004  1.0  0.0  0.0  0.0  0.0  0.0   0.0  0.0  0.0"
      ]
     },
     "execution_count": 59,
     "metadata": {},
     "output_type": "execute_result"
    }
   ],
   "source": [
    "try:\n",
    "    truth = pd.read_csv(cfg.variables()['data']['source']['truth']).head()\n",
    "except Exception as e:\n",
    "    print(e)\n",
    "truth.head()"
   ]
  },
  {
   "cell_type": "markdown",
   "metadata": {},
   "source": [
    "<br>\n",
    "\n",
    "The classes/labels are\n",
    "\n",
    "Name | Abbreviation\n",
    "--- | ---\n",
    "Melanoma | MEL\n",
    "Melanocytic Nevus | NV\n",
    "Basal Cell carcinoma | BCC\n",
    "Actinic Keratosis | AK\n",
    "Benign Keratosis | BKL \n",
    "Dermatofibroma | DF\n",
    "Vascular Lesion | VASC\n",
    "Squamous Cell Carcinoma | SCC\n",
    "None of the others | UNK\n",
    "\n"
   ]
  },
  {
   "cell_type": "markdown",
   "metadata": {},
   "source": [
    "<br>\n",
    "<br>\n",
    "\n",
    "## Observations"
   ]
  },
  {
   "cell_type": "markdown",
   "metadata": {},
   "source": [
    "### Basic\n",
    "\n",
    "Methods of the class `src/data/Source.py` read in the metadata & goundtruth data files, and join their data via the image name field `image`.  The `Sources.Sources().summary()` method returns \n",
    "* a data frame of the merged data `i_listing`; deduplicated. \n",
    "* the names of the label columns `i_labels`. \n",
    "* the names of the metadata fields `i_fields`. "
   ]
  },
  {
   "cell_type": "code",
   "execution_count": 60,
   "metadata": {},
   "outputs": [],
   "source": [
    "i_listing, i_labels, i_fields = Sources.Sources().summary()"
   ]
  },
  {
   "cell_type": "markdown",
   "metadata": {},
   "source": [
    "<br>\n",
    "\n",
    "The data frame of metadata & ground truths"
   ]
  },
  {
   "cell_type": "code",
   "execution_count": 61,
   "metadata": {},
   "outputs": [
    {
     "data": {
      "text/html": [
       "<div>\n",
       "<style scoped>\n",
       "    .dataframe tbody tr th:only-of-type {\n",
       "        vertical-align: middle;\n",
       "    }\n",
       "\n",
       "    .dataframe tbody tr th {\n",
       "        vertical-align: top;\n",
       "    }\n",
       "\n",
       "    .dataframe thead th {\n",
       "        text-align: right;\n",
       "    }\n",
       "</style>\n",
       "<table border=\"1\" class=\"dataframe\">\n",
       "  <thead>\n",
       "    <tr style=\"text-align: right;\">\n",
       "      <th></th>\n",
       "      <th>image</th>\n",
       "      <th>age_approx</th>\n",
       "      <th>anatom_site_general</th>\n",
       "      <th>lesion_id</th>\n",
       "      <th>sex</th>\n",
       "      <th>MEL</th>\n",
       "      <th>NV</th>\n",
       "      <th>BCC</th>\n",
       "      <th>AK</th>\n",
       "      <th>BKL</th>\n",
       "      <th>DF</th>\n",
       "      <th>VASC</th>\n",
       "      <th>SCC</th>\n",
       "      <th>UNK</th>\n",
       "    </tr>\n",
       "  </thead>\n",
       "  <tbody>\n",
       "    <tr>\n",
       "      <th>0</th>\n",
       "      <td>ISIC_0000000</td>\n",
       "      <td>55.0</td>\n",
       "      <td>anterior torso</td>\n",
       "      <td>NaN</td>\n",
       "      <td>female</td>\n",
       "      <td>0.0</td>\n",
       "      <td>1.0</td>\n",
       "      <td>0.0</td>\n",
       "      <td>0.0</td>\n",
       "      <td>0.0</td>\n",
       "      <td>0.0</td>\n",
       "      <td>0.0</td>\n",
       "      <td>0.0</td>\n",
       "      <td>0.0</td>\n",
       "    </tr>\n",
       "    <tr>\n",
       "      <th>1</th>\n",
       "      <td>ISIC_0000001</td>\n",
       "      <td>30.0</td>\n",
       "      <td>anterior torso</td>\n",
       "      <td>NaN</td>\n",
       "      <td>female</td>\n",
       "      <td>0.0</td>\n",
       "      <td>1.0</td>\n",
       "      <td>0.0</td>\n",
       "      <td>0.0</td>\n",
       "      <td>0.0</td>\n",
       "      <td>0.0</td>\n",
       "      <td>0.0</td>\n",
       "      <td>0.0</td>\n",
       "      <td>0.0</td>\n",
       "    </tr>\n",
       "    <tr>\n",
       "      <th>2</th>\n",
       "      <td>ISIC_0000002</td>\n",
       "      <td>60.0</td>\n",
       "      <td>upper extremity</td>\n",
       "      <td>NaN</td>\n",
       "      <td>female</td>\n",
       "      <td>1.0</td>\n",
       "      <td>0.0</td>\n",
       "      <td>0.0</td>\n",
       "      <td>0.0</td>\n",
       "      <td>0.0</td>\n",
       "      <td>0.0</td>\n",
       "      <td>0.0</td>\n",
       "      <td>0.0</td>\n",
       "      <td>0.0</td>\n",
       "    </tr>\n",
       "    <tr>\n",
       "      <th>3</th>\n",
       "      <td>ISIC_0000003</td>\n",
       "      <td>30.0</td>\n",
       "      <td>upper extremity</td>\n",
       "      <td>NaN</td>\n",
       "      <td>male</td>\n",
       "      <td>0.0</td>\n",
       "      <td>1.0</td>\n",
       "      <td>0.0</td>\n",
       "      <td>0.0</td>\n",
       "      <td>0.0</td>\n",
       "      <td>0.0</td>\n",
       "      <td>0.0</td>\n",
       "      <td>0.0</td>\n",
       "      <td>0.0</td>\n",
       "    </tr>\n",
       "    <tr>\n",
       "      <th>4</th>\n",
       "      <td>ISIC_0000004</td>\n",
       "      <td>80.0</td>\n",
       "      <td>posterior torso</td>\n",
       "      <td>NaN</td>\n",
       "      <td>male</td>\n",
       "      <td>1.0</td>\n",
       "      <td>0.0</td>\n",
       "      <td>0.0</td>\n",
       "      <td>0.0</td>\n",
       "      <td>0.0</td>\n",
       "      <td>0.0</td>\n",
       "      <td>0.0</td>\n",
       "      <td>0.0</td>\n",
       "      <td>0.0</td>\n",
       "    </tr>\n",
       "  </tbody>\n",
       "</table>\n",
       "</div>"
      ],
      "text/plain": [
       "          image  age_approx anatom_site_general lesion_id     sex  MEL   NV  \\\n",
       "0  ISIC_0000000        55.0      anterior torso       NaN  female  0.0  1.0   \n",
       "1  ISIC_0000001        30.0      anterior torso       NaN  female  0.0  1.0   \n",
       "2  ISIC_0000002        60.0     upper extremity       NaN  female  1.0  0.0   \n",
       "3  ISIC_0000003        30.0     upper extremity       NaN    male  0.0  1.0   \n",
       "4  ISIC_0000004        80.0     posterior torso       NaN    male  1.0  0.0   \n",
       "\n",
       "   BCC   AK  BKL   DF  VASC  SCC  UNK  \n",
       "0  0.0  0.0  0.0  0.0   0.0  0.0  0.0  \n",
       "1  0.0  0.0  0.0  0.0   0.0  0.0  0.0  \n",
       "2  0.0  0.0  0.0  0.0   0.0  0.0  0.0  \n",
       "3  0.0  0.0  0.0  0.0   0.0  0.0  0.0  \n",
       "4  0.0  0.0  0.0  0.0   0.0  0.0  0.0  "
      ]
     },
     "execution_count": 61,
     "metadata": {},
     "output_type": "execute_result"
    }
   ],
   "source": [
    "i_listing.head()"
   ]
  },
  {
   "cell_type": "markdown",
   "metadata": {},
   "source": [
    "<br>\n",
    "\n",
    "Labels"
   ]
  },
  {
   "cell_type": "code",
   "execution_count": 62,
   "metadata": {},
   "outputs": [
    {
     "data": {
      "text/plain": [
       "['MEL', 'NV', 'BCC', 'AK', 'BKL', 'DF', 'VASC', 'SCC', 'UNK']"
      ]
     },
     "execution_count": 62,
     "metadata": {},
     "output_type": "execute_result"
    }
   ],
   "source": [
    "i_labels"
   ]
  },
  {
   "cell_type": "markdown",
   "metadata": {},
   "source": [
    "<br>\n",
    "\n",
    "Fields"
   ]
  },
  {
   "cell_type": "code",
   "execution_count": 63,
   "metadata": {},
   "outputs": [
    {
     "data": {
      "text/plain": [
       "['image', 'age_approx', 'anatom_site_general', 'lesion_id', 'sex']"
      ]
     },
     "execution_count": 63,
     "metadata": {},
     "output_type": "execute_result"
    }
   ],
   "source": [
    "i_fields"
   ]
  },
  {
   "cell_type": "markdown",
   "metadata": {},
   "source": [
    "<br>\n",
    "\n",
    "There are 25,331 images, hence 25,331 records are expected in `i_listing`."
   ]
  },
  {
   "cell_type": "code",
   "execution_count": 64,
   "metadata": {},
   "outputs": [
    {
     "name": "stdout",
     "output_type": "stream",
     "text": [
      "Number of records: 25,331\n"
     ]
    }
   ],
   "source": [
    "print(f\"Number of records: {i_listing.shape[0]:,}\")"
   ]
  },
  {
   "cell_type": "markdown",
   "metadata": {},
   "source": [
    "Presently, and temporarily, each time a push to GitHub occurs, the test class test/data/test_Images checks the existence of a random set of images; visit one of [the repository's GitHub Action jobs](https://github.com/greyhypotheses/derma/commit/9dd47bcbcd3f93b0101f4e2ac62b9320d43b2e6b/checks?check_suite_id=329010611), test programs are listed within the `Test with pytest` section."
   ]
  },
  {
   "cell_type": "markdown",
   "metadata": {},
   "source": [
    "<br>\n",
    "\n",
    "**Is each image assigned to a single class/label only?**"
   ]
  },
  {
   "cell_type": "code",
   "execution_count": 65,
   "metadata": {},
   "outputs": [
    {
     "name": "stdout",
     "output_type": "stream",
     "text": [
      "Each image is assigned to a single class/label: True\n"
     ]
    }
   ],
   "source": [
    "# a. Calculate the sum across each row\n",
    "# b. Check whether the value of each row is 1 \n",
    "print(f\"Each image is assigned to a single class/label: {i_listing[i_labels].sum(axis=1).all()}\")"
   ]
  },
  {
   "cell_type": "markdown",
   "metadata": {},
   "source": [
    "<br>\n",
    "\n",
    "### Distribution of Classes"
   ]
  },
  {
   "cell_type": "code",
   "execution_count": 66,
   "metadata": {},
   "outputs": [
    {
     "name": "stdout",
     "output_type": "stream",
     "text": [
      "The number of instances per class:\n"
     ]
    },
    {
     "data": {
      "text/plain": [
       "MEL      4522\n",
       "NV      12875\n",
       "BCC      3323\n",
       "AK        867\n",
       "BKL      2624\n",
       "DF        239\n",
       "VASC      253\n",
       "SCC       628\n",
       "UNK         0\n",
       "dtype: int32"
      ]
     },
     "execution_count": 66,
     "metadata": {},
     "output_type": "execute_result"
    }
   ],
   "source": [
    "print(\"The number of instances per class:\")\n",
    "i_listing[i_labels].sum().astype(int)"
   ]
  },
  {
   "cell_type": "markdown",
   "metadata": {},
   "source": [
    "<br>\n",
    "\n",
    "**The class UNK, i.e., unknown, does not have any data.**  An extension of the `Sources.Sources()` class - `Usable.Usable()` - is used to filter out records & classes/labels that do not meet a minimum class sample size requirement."
   ]
  },
  {
   "cell_type": "code",
   "execution_count": 67,
   "metadata": {},
   "outputs": [],
   "source": [
    "# Presently slow\n",
    "listing, labels, fields = Usable.Usable().summary()"
   ]
  },
  {
   "cell_type": "code",
   "execution_count": 68,
   "metadata": {},
   "outputs": [
    {
     "data": {
      "text/html": [
       "<div>\n",
       "<style scoped>\n",
       "    .dataframe tbody tr th:only-of-type {\n",
       "        vertical-align: middle;\n",
       "    }\n",
       "\n",
       "    .dataframe tbody tr th {\n",
       "        vertical-align: top;\n",
       "    }\n",
       "\n",
       "    .dataframe thead th {\n",
       "        text-align: right;\n",
       "    }\n",
       "</style>\n",
       "<table border=\"1\" class=\"dataframe\">\n",
       "  <thead>\n",
       "    <tr style=\"text-align: right;\">\n",
       "      <th></th>\n",
       "      <th>image</th>\n",
       "      <th>age_approx</th>\n",
       "      <th>anatom_site_general</th>\n",
       "      <th>lesion_id</th>\n",
       "      <th>sex</th>\n",
       "      <th>MEL</th>\n",
       "      <th>NV</th>\n",
       "      <th>BCC</th>\n",
       "      <th>AK</th>\n",
       "      <th>BKL</th>\n",
       "      <th>DF</th>\n",
       "      <th>VASC</th>\n",
       "      <th>SCC</th>\n",
       "    </tr>\n",
       "  </thead>\n",
       "  <tbody>\n",
       "    <tr>\n",
       "      <th>0</th>\n",
       "      <td>ISIC_0000000</td>\n",
       "      <td>55.0</td>\n",
       "      <td>anterior torso</td>\n",
       "      <td>NaN</td>\n",
       "      <td>female</td>\n",
       "      <td>0.0</td>\n",
       "      <td>1.0</td>\n",
       "      <td>0.0</td>\n",
       "      <td>0.0</td>\n",
       "      <td>0.0</td>\n",
       "      <td>0.0</td>\n",
       "      <td>0.0</td>\n",
       "      <td>0.0</td>\n",
       "    </tr>\n",
       "    <tr>\n",
       "      <th>1</th>\n",
       "      <td>ISIC_0000001</td>\n",
       "      <td>30.0</td>\n",
       "      <td>anterior torso</td>\n",
       "      <td>NaN</td>\n",
       "      <td>female</td>\n",
       "      <td>0.0</td>\n",
       "      <td>1.0</td>\n",
       "      <td>0.0</td>\n",
       "      <td>0.0</td>\n",
       "      <td>0.0</td>\n",
       "      <td>0.0</td>\n",
       "      <td>0.0</td>\n",
       "      <td>0.0</td>\n",
       "    </tr>\n",
       "    <tr>\n",
       "      <th>2</th>\n",
       "      <td>ISIC_0000002</td>\n",
       "      <td>60.0</td>\n",
       "      <td>upper extremity</td>\n",
       "      <td>NaN</td>\n",
       "      <td>female</td>\n",
       "      <td>1.0</td>\n",
       "      <td>0.0</td>\n",
       "      <td>0.0</td>\n",
       "      <td>0.0</td>\n",
       "      <td>0.0</td>\n",
       "      <td>0.0</td>\n",
       "      <td>0.0</td>\n",
       "      <td>0.0</td>\n",
       "    </tr>\n",
       "    <tr>\n",
       "      <th>3</th>\n",
       "      <td>ISIC_0000003</td>\n",
       "      <td>30.0</td>\n",
       "      <td>upper extremity</td>\n",
       "      <td>NaN</td>\n",
       "      <td>male</td>\n",
       "      <td>0.0</td>\n",
       "      <td>1.0</td>\n",
       "      <td>0.0</td>\n",
       "      <td>0.0</td>\n",
       "      <td>0.0</td>\n",
       "      <td>0.0</td>\n",
       "      <td>0.0</td>\n",
       "      <td>0.0</td>\n",
       "    </tr>\n",
       "    <tr>\n",
       "      <th>4</th>\n",
       "      <td>ISIC_0000004</td>\n",
       "      <td>80.0</td>\n",
       "      <td>posterior torso</td>\n",
       "      <td>NaN</td>\n",
       "      <td>male</td>\n",
       "      <td>1.0</td>\n",
       "      <td>0.0</td>\n",
       "      <td>0.0</td>\n",
       "      <td>0.0</td>\n",
       "      <td>0.0</td>\n",
       "      <td>0.0</td>\n",
       "      <td>0.0</td>\n",
       "      <td>0.0</td>\n",
       "    </tr>\n",
       "  </tbody>\n",
       "</table>\n",
       "</div>"
      ],
      "text/plain": [
       "          image  age_approx anatom_site_general lesion_id     sex  MEL   NV  \\\n",
       "0  ISIC_0000000        55.0      anterior torso       NaN  female  0.0  1.0   \n",
       "1  ISIC_0000001        30.0      anterior torso       NaN  female  0.0  1.0   \n",
       "2  ISIC_0000002        60.0     upper extremity       NaN  female  1.0  0.0   \n",
       "3  ISIC_0000003        30.0     upper extremity       NaN    male  0.0  1.0   \n",
       "4  ISIC_0000004        80.0     posterior torso       NaN    male  1.0  0.0   \n",
       "\n",
       "   BCC   AK  BKL   DF  VASC  SCC  \n",
       "0  0.0  0.0  0.0  0.0   0.0  0.0  \n",
       "1  0.0  0.0  0.0  0.0   0.0  0.0  \n",
       "2  0.0  0.0  0.0  0.0   0.0  0.0  \n",
       "3  0.0  0.0  0.0  0.0   0.0  0.0  \n",
       "4  0.0  0.0  0.0  0.0   0.0  0.0  "
      ]
     },
     "execution_count": 68,
     "metadata": {},
     "output_type": "execute_result"
    }
   ],
   "source": [
    "listing.head()"
   ]
  },
  {
   "cell_type": "code",
   "execution_count": 69,
   "metadata": {},
   "outputs": [
    {
     "data": {
      "text/plain": [
       "['MEL', 'NV', 'BCC', 'AK', 'BKL', 'DF', 'VASC', 'SCC']"
      ]
     },
     "execution_count": 69,
     "metadata": {},
     "output_type": "execute_result"
    }
   ],
   "source": [
    "labels"
   ]
  },
  {
   "cell_type": "code",
   "execution_count": 70,
   "metadata": {},
   "outputs": [
    {
     "data": {
      "text/plain": [
       "['image', 'age_approx', 'anatom_site_general', 'lesion_id', 'sex']"
      ]
     },
     "execution_count": 70,
     "metadata": {},
     "output_type": "execute_result"
    }
   ],
   "source": [
    "fields"
   ]
  },
  {
   "cell_type": "markdown",
   "metadata": {},
   "source": [
    "<br>\n",
    "\n",
    "Hence, the latest distribution of classes is outlined below.  **The list and graph illustrate an imbalanced dataset**.  This leads to important modelling considerations\n",
    "\n",
    "* Stratified data splitting for training & testing.\n",
    "* Granular evaluation, e.g., are mis-classifications predominantly associated with classes that have a relatively small sample size.  The insights herein will inform the design of new models."
   ]
  },
  {
   "cell_type": "code",
   "execution_count": 71,
   "metadata": {},
   "outputs": [
    {
     "name": "stdout",
     "output_type": "stream",
     "text": [
      "The number of instances per class:\n",
      "AK        867\n",
      "BCC      3323\n",
      "BKL      2624\n",
      "DF        239\n",
      "MEL      4522\n",
      "NV      12875\n",
      "SCC       628\n",
      "VASC      253\n",
      "dtype: int32\n",
      "Total: 25,331\n",
      "\n",
      "\n"
     ]
    },
    {
     "data": {
      "text/plain": [
       "Text(0, 0.5, 'Label')"
      ]
     },
     "execution_count": 71,
     "metadata": {},
     "output_type": "execute_result"
    },
    {
     "data": {
      "image/png": "[encoded data removed]",
      "text/plain": [
       "<Figure size 378x270 with 1 Axes>"
      ]
     },
     "metadata": {},
     "output_type": "display_data"
    }
   ],
   "source": [
    "instances_per_class = listing[labels].sum().astype(int)\n",
    "instances_per_class.sort_index(inplace=True)\n",
    "\n",
    "print(\"The number of instances per class:\")\n",
    "print(instances_per_class)\n",
    "print(f\"Total: {instances_per_class.sum():,}\")\n",
    "print('\\n')\n",
    "\n",
    "plt.figure(figsize=(5.25,3.75))\n",
    "plt.tick_params(axis='both', labelsize='medium')\n",
    "sns.barplot(y=instances_per_class.index, x=instances_per_class.values)\n",
    "plt.xlabel(\"# of instances\", fontsize='medium')\n",
    "plt.ylabel(\"Label\", fontsize='medium')"
   ]
  },
  {
   "cell_type": "markdown",
   "metadata": {},
   "source": [
    "<br>\n",
    "<br>\n",
    "\n",
    "## The Metadata\n",
    "\n",
    "The previous section noted that the data set is imbalanced w.r.t. sample sizes per class.  Any imbalances w.r.t. anatomical sites, sex, and/or gender may or may not affect a classification model's performance.  Either way, granular model evaluation w.r.t. these characteristics will be clarifying.  This section conducts a preliminary exploration of skin lesion class distributions w.r.t. these characteristics.  Foremost, missing values are addressed.\n"
   ]
  },
  {
   "cell_type": "markdown",
   "metadata": {},
   "source": [
    "The data in focus is `listing`"
   ]
  },
  {
   "cell_type": "code",
   "execution_count": 72,
   "metadata": {},
   "outputs": [
    {
     "data": {
      "text/html": [
       "<div>\n",
       "<style scoped>\n",
       "    .dataframe tbody tr th:only-of-type {\n",
       "        vertical-align: middle;\n",
       "    }\n",
       "\n",
       "    .dataframe tbody tr th {\n",
       "        vertical-align: top;\n",
       "    }\n",
       "\n",
       "    .dataframe thead th {\n",
       "        text-align: right;\n",
       "    }\n",
       "</style>\n",
       "<table border=\"1\" class=\"dataframe\">\n",
       "  <thead>\n",
       "    <tr style=\"text-align: right;\">\n",
       "      <th></th>\n",
       "      <th>image</th>\n",
       "      <th>age_approx</th>\n",
       "      <th>anatom_site_general</th>\n",
       "      <th>lesion_id</th>\n",
       "      <th>sex</th>\n",
       "      <th>MEL</th>\n",
       "      <th>NV</th>\n",
       "      <th>BCC</th>\n",
       "      <th>AK</th>\n",
       "      <th>BKL</th>\n",
       "      <th>DF</th>\n",
       "      <th>VASC</th>\n",
       "      <th>SCC</th>\n",
       "    </tr>\n",
       "  </thead>\n",
       "  <tbody>\n",
       "    <tr>\n",
       "      <th>0</th>\n",
       "      <td>ISIC_0000000</td>\n",
       "      <td>55.0</td>\n",
       "      <td>anterior torso</td>\n",
       "      <td>NaN</td>\n",
       "      <td>female</td>\n",
       "      <td>0.0</td>\n",
       "      <td>1.0</td>\n",
       "      <td>0.0</td>\n",
       "      <td>0.0</td>\n",
       "      <td>0.0</td>\n",
       "      <td>0.0</td>\n",
       "      <td>0.0</td>\n",
       "      <td>0.0</td>\n",
       "    </tr>\n",
       "    <tr>\n",
       "      <th>1</th>\n",
       "      <td>ISIC_0000001</td>\n",
       "      <td>30.0</td>\n",
       "      <td>anterior torso</td>\n",
       "      <td>NaN</td>\n",
       "      <td>female</td>\n",
       "      <td>0.0</td>\n",
       "      <td>1.0</td>\n",
       "      <td>0.0</td>\n",
       "      <td>0.0</td>\n",
       "      <td>0.0</td>\n",
       "      <td>0.0</td>\n",
       "      <td>0.0</td>\n",
       "      <td>0.0</td>\n",
       "    </tr>\n",
       "    <tr>\n",
       "      <th>2</th>\n",
       "      <td>ISIC_0000002</td>\n",
       "      <td>60.0</td>\n",
       "      <td>upper extremity</td>\n",
       "      <td>NaN</td>\n",
       "      <td>female</td>\n",
       "      <td>1.0</td>\n",
       "      <td>0.0</td>\n",
       "      <td>0.0</td>\n",
       "      <td>0.0</td>\n",
       "      <td>0.0</td>\n",
       "      <td>0.0</td>\n",
       "      <td>0.0</td>\n",
       "      <td>0.0</td>\n",
       "    </tr>\n",
       "    <tr>\n",
       "      <th>3</th>\n",
       "      <td>ISIC_0000003</td>\n",
       "      <td>30.0</td>\n",
       "      <td>upper extremity</td>\n",
       "      <td>NaN</td>\n",
       "      <td>male</td>\n",
       "      <td>0.0</td>\n",
       "      <td>1.0</td>\n",
       "      <td>0.0</td>\n",
       "      <td>0.0</td>\n",
       "      <td>0.0</td>\n",
       "      <td>0.0</td>\n",
       "      <td>0.0</td>\n",
       "      <td>0.0</td>\n",
       "    </tr>\n",
       "    <tr>\n",
       "      <th>4</th>\n",
       "      <td>ISIC_0000004</td>\n",
       "      <td>80.0</td>\n",
       "      <td>posterior torso</td>\n",
       "      <td>NaN</td>\n",
       "      <td>male</td>\n",
       "      <td>1.0</td>\n",
       "      <td>0.0</td>\n",
       "      <td>0.0</td>\n",
       "      <td>0.0</td>\n",
       "      <td>0.0</td>\n",
       "      <td>0.0</td>\n",
       "      <td>0.0</td>\n",
       "      <td>0.0</td>\n",
       "    </tr>\n",
       "  </tbody>\n",
       "</table>\n",
       "</div>"
      ],
      "text/plain": [
       "          image  age_approx anatom_site_general lesion_id     sex  MEL   NV  \\\n",
       "0  ISIC_0000000        55.0      anterior torso       NaN  female  0.0  1.0   \n",
       "1  ISIC_0000001        30.0      anterior torso       NaN  female  0.0  1.0   \n",
       "2  ISIC_0000002        60.0     upper extremity       NaN  female  1.0  0.0   \n",
       "3  ISIC_0000003        30.0     upper extremity       NaN    male  0.0  1.0   \n",
       "4  ISIC_0000004        80.0     posterior torso       NaN    male  1.0  0.0   \n",
       "\n",
       "   BCC   AK  BKL   DF  VASC  SCC  \n",
       "0  0.0  0.0  0.0  0.0   0.0  0.0  \n",
       "1  0.0  0.0  0.0  0.0   0.0  0.0  \n",
       "2  0.0  0.0  0.0  0.0   0.0  0.0  \n",
       "3  0.0  0.0  0.0  0.0   0.0  0.0  \n",
       "4  0.0  0.0  0.0  0.0   0.0  0.0  "
      ]
     },
     "execution_count": 72,
     "metadata": {},
     "output_type": "execute_result"
    }
   ],
   "source": [
    "listing.head()"
   ]
  },
  {
   "cell_type": "markdown",
   "metadata": {},
   "source": [
    "<br>\n",
    "\n",
    "The `.info()` print highlights missing values in four fields: `age_approx`, `anatom_site_general`, `lesion_id`, `sex`.  The `.unique()` print indicates that each of these fields has `NaN` values. "
   ]
  },
  {
   "cell_type": "code",
   "execution_count": 73,
   "metadata": {},
   "outputs": [
    {
     "name": "stdout",
     "output_type": "stream",
     "text": [
      "\n",
      "\n",
      "<class 'pandas.core.frame.DataFrame'>\n",
      "Int64Index: 25331 entries, 0 to 25330\n",
      "Data columns (total 13 columns):\n",
      "image                  25331 non-null object\n",
      "age_approx             24894 non-null float64\n",
      "anatom_site_general    22700 non-null object\n",
      "lesion_id              23247 non-null object\n",
      "sex                    24947 non-null object\n",
      "MEL                    25331 non-null float64\n",
      "NV                     25331 non-null float64\n",
      "BCC                    25331 non-null float64\n",
      "AK                     25331 non-null float64\n",
      "BKL                    25331 non-null float64\n",
      "DF                     25331 non-null float64\n",
      "VASC                   25331 non-null float64\n",
      "SCC                    25331 non-null float64\n",
      "dtypes: float64(9), object(4)\n",
      "memory usage: 2.7+ MB\n",
      "None\n",
      "\n",
      "\n"
     ]
    },
    {
     "data": {
      "text/plain": [
       "[{'image': array(['ISIC_0000000', 'ISIC_0000001', 'ISIC_0000002', ...,\n",
       "         'ISIC_0073249', 'ISIC_0073251', 'ISIC_0073254'], dtype=object)},\n",
       " {'age_approx': array([55., 30., 60., 80., 25., 35., 50., 45., 70., 40., 65., 20., 15.,\n",
       "         85., nan,  5., 10., 75.,  0.])},\n",
       " {'anatom_site_general': array(['anterior torso', 'upper extremity', 'posterior torso',\n",
       "         'lower extremity', nan, 'lateral torso', 'head/neck',\n",
       "         'palms/soles', 'oral/genital'], dtype=object)},\n",
       " {'lesion_id': array([nan, 'MSK4_0011169', 'MSK4_0011170', ..., 'BCN_0002147',\n",
       "         'BCN_0001946', 'BCN_0001014'], dtype=object)},\n",
       " {'sex': array(['female', 'male', nan], dtype=object)}]"
      ]
     },
     "execution_count": 73,
     "metadata": {},
     "output_type": "execute_result"
    }
   ],
   "source": [
    "print('\\n')\n",
    "print(listing.info())\n",
    "print('\\n')\n",
    "[{i: listing[i].unique()} for i in fields]"
   ]
  },
  {
   "cell_type": "markdown",
   "metadata": {},
   "source": [
    "<br>\n",
    "\n",
    "The method `Missing.Missing().homogeneous_replace()` is used to replace missing values; the default setting is `unknown` for text, and `0` for numbers."
   ]
  },
  {
   "cell_type": "code",
   "execution_count": 74,
   "metadata": {},
   "outputs": [
    {
     "name": "stdout",
     "output_type": "stream",
     "text": [
      "\n",
      "\n",
      "<class 'pandas.core.frame.DataFrame'>\n",
      "Int64Index: 25331 entries, 0 to 25330\n",
      "Data columns (total 13 columns):\n",
      "image                  25331 non-null object\n",
      "age_approx             25331 non-null int32\n",
      "anatom_site_general    25331 non-null object\n",
      "lesion_id              25331 non-null object\n",
      "sex                    25331 non-null object\n",
      "MEL                    25331 non-null float64\n",
      "NV                     25331 non-null float64\n",
      "BCC                    25331 non-null float64\n",
      "AK                     25331 non-null float64\n",
      "BKL                    25331 non-null float64\n",
      "DF                     25331 non-null float64\n",
      "VASC                   25331 non-null float64\n",
      "SCC                    25331 non-null float64\n",
      "dtypes: float64(8), int32(1), object(4)\n",
      "memory usage: 2.6+ MB\n",
      "None\n",
      "\n",
      "\n"
     ]
    },
    {
     "data": {
      "text/plain": [
       "[{'image': array(['ISIC_0000000', 'ISIC_0000001', 'ISIC_0000002', ...,\n",
       "         'ISIC_0073249', 'ISIC_0073251', 'ISIC_0073254'], dtype=object)},\n",
       " {'age_approx': array([55, 30, 60, 80, 25, 35, 50, 45, 70, 40, 65, 20, 15, 85,  0,  5, 10,\n",
       "         75], dtype=int64)},\n",
       " {'anatom_site_general': array(['anterior torso', 'upper extremity', 'posterior torso',\n",
       "         'lower extremity', 'unknown', 'lateral torso', 'head/neck',\n",
       "         'palms/soles', 'oral/genital'], dtype=object)},\n",
       " {'lesion_id': array(['unknown', 'MSK4_0011169', 'MSK4_0011170', ..., 'BCN_0002147',\n",
       "         'BCN_0001946', 'BCN_0001014'], dtype=object)},\n",
       " {'sex': array(['female', 'male', 'unknown'], dtype=object)}]"
      ]
     },
     "execution_count": 74,
     "metadata": {},
     "output_type": "execute_result"
    }
   ],
   "source": [
    "listing = Missing.Missing().homogeneous_replace(data=listing, \n",
    "                                              text_fields=['anatom_site_general', 'lesion_id', 'sex'], \n",
    "                                              numeric_fields=['age_approx'])\n",
    "listing['age_approx'] = listing.age_approx.astype('int')\n",
    "print('\\n')\n",
    "print(listing.info())\n",
    "print('\\n')\n",
    "[{i: listing[i].unique()} for i in fields]"
   ]
  },
  {
   "cell_type": "markdown",
   "metadata": {},
   "source": [
    "<br>\n",
    "<br>\n",
    "\n",
    "#### Anatomical Sites\n",
    "\n",
    "These are the patient body sites where the images were taken.  The number of lateral torso, oral/genital, palm/soles images are relatively few, and there are more than 2,500 images of unknown anatomical source.  The unique anatomical sites are"
   ]
  },
  {
   "cell_type": "code",
   "execution_count": 75,
   "metadata": {},
   "outputs": [
    {
     "data": {
      "text/plain": [
       "anterior torso     6915\n",
       "lower extremity    4990\n",
       "head/neck          4587\n",
       "upper extremity    2910\n",
       "posterior torso    2787\n",
       "unknown            2631\n",
       "palms/soles         398\n",
       "oral/genital         59\n",
       "lateral torso        54\n",
       "Name: anatom_site_general, dtype: int64"
      ]
     },
     "execution_count": 75,
     "metadata": {},
     "output_type": "execute_result"
    }
   ],
   "source": [
    "listing.anatom_site_general.value_counts()"
   ]
  },
  {
   "cell_type": "markdown",
   "metadata": {},
   "source": [
    "<br>\n",
    "\n",
    "The matrix table & graph below summarise the sample sizes per intersection of anatomical site & class.  For example, 1331 of the melanoma (MEL) images are from the anterior torso part of the body.  It is important to take note of anatomical sites that have few, but not zero, instances."
   ]
  },
  {
   "cell_type": "code",
   "execution_count": 76,
   "metadata": {},
   "outputs": [
    {
     "name": "stdout",
     "output_type": "stream",
     "text": [
      "\n",
      "\n",
      "                      MEL    NV   BCC   AK   BKL   DF  VASC  SCC  Total\n",
      "anatom_site_general                                                    \n",
      "anterior torso       1331  3699  1114   92   445   43    78  113   6915\n",
      "head/neck             880   767  1131  598  1001    0    36  174   4587\n",
      "lateral torso          14    34     0    0     6    0     0    0     54\n",
      "lower extremity       796  2876   462   66   412  138    58  182   4990\n",
      "oral/genital           19    24     0    0    14    0     2    0     59\n",
      "palms/soles           201   168     0    6     7    0     3   13    398\n",
      "posterior torso       430  1888   186    4   230    2    22   25   2787\n",
      "unknown               127  2094    72   22   275    4    31    6   2631\n",
      "upper extremity       724  1325   358   79   234   52    23  115   2910\n",
      "\n",
      "\n",
      "Total # of instances: 25,331\n",
      "\n",
      "\n"
     ]
    },
    {
     "data": {
      "text/plain": [
       "<matplotlib.axes._subplots.AxesSubplot at 0xe7cad68>"
      ]
     },
     "execution_count": 76,
     "metadata": {},
     "output_type": "execute_result"
    },
    {
     "data": {
      "image/png": "[encoded data removed]",
      "text/plain": [
       "<Figure size 432x288 with 1 Axes>"
      ]
     },
     "metadata": {},
     "output_type": "display_data"
    }
   ],
   "source": [
    "x = listing[['anatom_site_general'] + labels].groupby(by='anatom_site_general').sum().astype(int)\n",
    "x['Total'] = x.sum(axis=1)\n",
    "x.sort_index(inplace=True)\n",
    "print('\\n')\n",
    "print(x)\n",
    "print('\\n')\n",
    "print(f\"Total # of instances: {x.Total.sum():,}\")\n",
    "print('\\n')\n",
    "x[labels].plot(kind='barh', stacked=True)"
   ]
  },
  {
   "cell_type": "markdown",
   "metadata": {},
   "source": [
    "<br>\n",
    "\n",
    "#### Sex\n",
    "\n",
    "The statistics w.r.t. sex are outlined below.  There are 384 images of unknown sex source.  The breakdown by sex & class is"
   ]
  },
  {
   "cell_type": "code",
   "execution_count": 77,
   "metadata": {},
   "outputs": [
    {
     "name": "stdout",
     "output_type": "stream",
     "text": [
      "\n",
      "\n",
      "         tally\n",
      "female   11661\n",
      "male     13286\n",
      "unknown    384\n",
      "\n",
      "\n",
      "          MEL    NV   BCC   AK   BKL   DF  VASC  SCC  Total\n",
      "sex                                                        \n",
      "female   1980  6379  1317  406  1134  117   125  203  11661\n",
      "male     2461  6225  2000  458  1467  122   128  425  13286\n",
      "unknown    81   271     6    3    23    0     0    0    384\n",
      "\n",
      "\n"
     ]
    },
    {
     "data": {
      "text/plain": [
       "<matplotlib.axes._subplots.AxesSubplot at 0xe5115c0>"
      ]
     },
     "execution_count": 77,
     "metadata": {},
     "output_type": "execute_result"
    },
    {
     "data": {
      "image/png": "[encoded data removed]",
      "text/plain": [
       "<Figure size 432x288 with 1 Axes>"
      ]
     },
     "metadata": {},
     "output_type": "display_data"
    }
   ],
   "source": [
    "print('\\n')\n",
    "print(pd.DataFrame(listing.sex.value_counts()).rename(columns={'sex': 'tally'}).sort_index())\n",
    "\n",
    "sex = listing[['sex'] + labels].groupby(by='sex').sum().astype(int)\n",
    "sex.sort_index(inplace=True)\n",
    "sex['Total'] = sex.sum(axis=1)\n",
    "\n",
    "print('\\n')\n",
    "print(sex)\n",
    "print('\\n')\n",
    "sex[labels].plot(kind='barh', stacked=True)"
   ]
  },
  {
   "cell_type": "markdown",
   "metadata": {},
   "source": [
    "<br>\n",
    "\n",
    "#### Age\n",
    "\n",
    "The distribution of the approximate ages of each lesion's host is outlined below.  The images are predominantly from hosts approximately aged 30 and above.  Although $50.8\\%$ of the images - 12,875 of 25,331 images - are Melanocytic Nevus (NV) images, some `age_approx` groups only have a few images within this class.  Whether or not this matters depends on whether lesion pathogenesis has any relationship with age or age group; subject to patient health constraints. \n",
    "\n",
    "<br>"
   ]
  },
  {
   "cell_type": "code",
   "execution_count": 78,
   "metadata": {},
   "outputs": [
    {
     "name": "stdout",
     "output_type": "stream",
     "text": [
      "    age_approx  tally\n",
      "0            0    491\n",
      "1            5    113\n",
      "2           10    142\n",
      "3           15    375\n",
      "4           20    388\n",
      "5           25    677\n",
      "6           30   1199\n",
      "7           35   1651\n",
      "8           40   2246\n",
      "9           45   2585\n",
      "10          50   2489\n",
      "11          55   2170\n",
      "12          60   2036\n",
      "13          65   2075\n",
      "14          70   2120\n",
      "15          75   1796\n",
      "16          80   1459\n",
      "17          85   1319\n",
      "\n",
      "\n"
     ]
    },
    {
     "data": {
      "text/plain": [
       "Text(0, 0.5, 'tally')"
      ]
     },
     "execution_count": 78,
     "metadata": {},
     "output_type": "execute_result"
    },
    {
     "data": {
      "image/png": "[encoded data removed]",
      "text/plain": [
       "<Figure size 432x252 with 1 Axes>"
      ]
     },
     "metadata": {},
     "output_type": "display_data"
    }
   ],
   "source": [
    "n_per_age_approx = listing['age_approx'].value_counts()\n",
    "\n",
    "ages = pd.DataFrame(n_per_age_approx).sort_index().reset_index()\n",
    "ages.rename(columns={'index': 'age_approx', 'age_approx': 'tally'}, inplace=True)\n",
    "\n",
    "print(ages)\n",
    "print('\\n')\n",
    "\n",
    "plt.figure(figsize=(6.0,3.5))\n",
    "plt.tick_params(axis='both', labelsize='medium')\n",
    "sns.barplot(y=ages.tally, x=ages.age_approx, color='black')\n",
    "plt.xlabel(\"age_approx\", fontsize='medium')\n",
    "plt.ylabel(\"tally\", fontsize='medium')"
   ]
  },
  {
   "cell_type": "markdown",
   "metadata": {},
   "source": [
    "<br>\n",
    "\n",
    "And at a more granular level"
   ]
  },
  {
   "cell_type": "code",
   "execution_count": 79,
   "metadata": {},
   "outputs": [
    {
     "name": "stdout",
     "output_type": "stream",
     "text": [
      "            MEL    NV  BCC   AK  BKL  DF  VASC  SCC\n",
      "age_approx                                         \n",
      "0            85   362    6    3   31   0     4    0\n",
      "5             1   108    0    0    1   0     3    0\n",
      "10            1   135    2    2    0   0     2    0\n",
      "15            5   355    2    0    0   7     6    0\n",
      "20           18   349   10    0    7   0     4    0\n",
      "25           45   606   13    0    5   2     6    0\n",
      "30          102   955   61   19   43  11     8    0\n",
      "35          176  1324   55    0   57  19    17    3\n",
      "40          258  1656  125   15  132  32    23    5\n",
      "45          373  1832  170    6  133  29    26   16\n",
      "50          464  1503  200   52  197  28    18   27\n",
      "55          401  1090  292   63  233  32    28   31\n",
      "60          410   802  293  131  311  18    17   54\n",
      "65          478   713  382  108  292  24     9   69\n",
      "70          570   431  443  157  362  14    28  115\n",
      "75          383   363  431  119  365   9    34   92\n",
      "80          391   200  397  102  221   5    13  130\n",
      "85          361    91  441   90  234   9     7   86\n",
      "\n",
      "\n"
     ]
    },
    {
     "data": {
      "text/plain": [
       "Text(0, 0.5, 'tally')"
      ]
     },
     "execution_count": 79,
     "metadata": {},
     "output_type": "execute_result"
    },
    {
     "data": {
      "text/plain": [
       "<Figure size 432x252 with 0 Axes>"
      ]
     },
     "metadata": {},
     "output_type": "display_data"
    },
    {
     "data": {
      "image/png": "[encoded data removed]",
      "text/plain": [
       "<Figure size 432x288 with 1 Axes>"
      ]
     },
     "metadata": {},
     "output_type": "display_data"
    }
   ],
   "source": [
    "ages_and_labels = listing[['age_approx'] + labels].groupby(by='age_approx').sum().astype(int)\n",
    "\n",
    "print(ages_and_labels)\n",
    "print('\\n')\n",
    "\n",
    "plt.figure(figsize=(6.0,3.5))\n",
    "ages_and_labels.plot(kind='bar', stacked=True)\n",
    "plt.tick_params(axis='both', labelsize='medium')\n",
    "plt.xlabel(\"age_approx\", fontsize='medium')\n",
    "plt.ylabel(\"tally\", fontsize='medium')"
   ]
  },
  {
   "cell_type": "markdown",
   "metadata": {},
   "source": [
    "<br>\n",
    "<br>\n",
    "\n",
    "## Development Notes\n",
    "* A class for graphing methods"
   ]
  }
 ],
 "metadata": {
  "kernelspec": {
   "display_name": "Python 3",
   "language": "python",
   "name": "python3"
  },
  "language_info": {
   "codemirror_mode": {
    "name": "ipython",
    "version": 3
   },
   "file_extension": ".py",
   "mimetype": "text/x-python",
   "name": "python",
   "nbconvert_exporter": "python",
   "pygments_lexer": "ipython3",
   "version": "3.6.9"
  }
 },
 "nbformat": 4,
 "nbformat_minor": 4
}
